{
 "cells": [
  {
   "cell_type": "code",
   "execution_count": 1,
   "metadata": {
    "collapsed": true
   },
   "outputs": [],
   "source": [
    "from __future__ import division\n",
    "from __future__ import print_function\n",
    "import os.path\n",
    "import numpy as np\n",
    "import tensorflow as tf\n",
    "import pickle"
   ]
  },
  {
   "cell_type": "code",
   "execution_count": 2,
   "metadata": {
    "collapsed": true
   },
   "outputs": [],
   "source": [
    "#Each RR interval data should be of size 20 to feed in the model\n",
    "\n",
    "rr_interval_data = [['0.507', '0.324', '0.560', '0.357', '0.499', '0.323', '0.496', '0.334', '0.587', '0.326', '0.839', '0.321', '0.725', '0.328', '0.670', '0.338', '0.585', '0.810', '0.326', '2.392'],\n",
    "           ['0.202', '0.327', '0.611', '0.250', '0.680', '0.321', '0.588', '0.328', '0.619', '0.251', '0.250', '0.251', '0.250', '0.251', '0.250', '0.251', '0.250', '0.251', '0.250', '0.251'], \n",
    "           ['0.057', '0.542', '0.302', '0.607', '0.305', '0.559', '0.301', '0.570', '0.310', '1.004', '0.312', '0.352', '0.259', '0.311', '0.562', '0.316', '0.616', '0.250', '0.255', '0.251'], \n",
    "           ['0.312', '0.352', '0.259', '0.311', '0.562', '0.316', '0.616', '0.250', '0.255', '0.251', '0.250', '0.251', '0.250', '0.251', '0.250', '0.251', '0.250', '0.251', '0.250', '0.251'], \n",
    "           ['0.297', '0.336', '0.704', '0.250', '0.736', '0.339', '0.665', '0.338', '0.486', '0.251', '0.250', '0.251', '0.250', '0.251', '0.250', '0.251', '0.250', '0.251', '0.247', '0.254']]"
   ]
  },
  {
   "cell_type": "code",
   "execution_count": 3,
   "metadata": {
    "collapsed": true
   },
   "outputs": [],
   "source": [
    "#threshold\n",
    "thres = 13"
   ]
  },
  {
   "cell_type": "code",
   "execution_count": 4,
   "metadata": {
    "collapsed": false
   },
   "outputs": [
    {
     "name": "stdout",
     "output_type": "stream",
     "text": [
      "Abnormal Hearbeat/RR interval\n",
      "Normal Heartbeat/RR interval\n",
      "Abnormal Hearbeat/RR interval\n",
      "Normal Heartbeat/RR interval\n",
      "Normal Heartbeat/RR interval\n"
     ]
    }
   ],
   "source": [
    "with tf.Session() as sess:\n",
    "    #Provide path of meta graph file \n",
    "    new_saver = tf.train.import_meta_graph('save/model.ckpt.meta')\n",
    "    #Provide path of saved model\n",
    "    new_saver.restore(sess, tf.train.latest_checkpoint('save'))\n",
    "    \n",
    "    graph = tf.get_default_graph()\n",
    "    #How to access saved variable/Tensor/placeholders\n",
    "    x = graph.get_tensor_by_name(\"input:0\")\n",
    "    loss = graph.get_tensor_by_name(\"loss:0\")\n",
    "    \n",
    "    for dat in rr_interval_data:\n",
    "        res = sess.run(loss, feed_dict={x:[dat]})\n",
    "        if res >= thres :\n",
    "            print(\"Abnormal Hearbeat/RR interval\")\n",
    "        else:\n",
    "            print(\"Normal Heartbeat/RR interval\")"
   ]
  },
  {
   "cell_type": "code",
   "execution_count": null,
   "metadata": {
    "collapsed": true
   },
   "outputs": [],
   "source": []
  }
 ],
 "metadata": {
  "anaconda-cloud": {},
  "kernelspec": {
   "display_name": "tftwo",
   "language": "python",
   "name": "tftwo"
  },
  "language_info": {
   "codemirror_mode": {
    "name": "ipython",
    "version": 2
   },
   "file_extension": ".py",
   "mimetype": "text/x-python",
   "name": "python",
   "nbconvert_exporter": "python",
   "pygments_lexer": "ipython2",
   "version": "2.7.14"
  }
 },
 "nbformat": 4,
 "nbformat_minor": 1
}
